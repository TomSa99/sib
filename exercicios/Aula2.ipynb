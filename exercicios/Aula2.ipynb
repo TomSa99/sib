{
 "cells": [
  {
   "cell_type": "markdown",
   "metadata": {},
   "source": [
    "# Exercício 3: Implementar o SelectPercentile"
   ]
  },
  {
   "cell_type": "code",
   "execution_count": null,
   "metadata": {},
   "outputs": [],
   "source": [
    "from si.data.dataset import Dataset\n",
    "import numpy as np\n",
    "\n",
    "class SelectPercentile:\n",
    "    def __init__ (self,score_func, percentile):\n",
    "        self.score_func = score_func\n",
    "        self.percentile = percentile\n",
    "        self.F = None\n",
    "        self.p = None\n",
    "    \n",
    "    def fit(self, dataset: Dataset):\n",
    "        self.F, self.p = self.score_func(dataset)\n",
    "        return self\n",
    "    \n",
    "    def transform(self, dataset: Dataset):\n",
    "        len_feats = len(dataset.features)\n",
    "        percentile = int(len_feats * self.percentile)\n",
    "        idx = np.argsort(self.F)[:percentile]\n",
    "        features = np.array(dataset.features)[idx]\n",
    "        return Dataset(dataset.x[:,idx], dataset.y, features)\n",
    "\n",
    "\n",
    "    def fit_transform(self, dataset: Dataset):\n",
    "        self.fit(dataset)\n",
    "        return self.transform(dataset)"
   ]
  }
 ],
 "metadata": {
  "kernelspec": {
   "display_name": "Python 3.8.8 ('base')",
   "language": "python",
   "name": "python3"
  },
  "language_info": {
   "name": "python",
   "version": "3.8.8"
  },
  "orig_nbformat": 4,
  "vscode": {
   "interpreter": {
    "hash": "37134ace218921b74af13dd92c56fdadfb15c5b94d65c3fac1e4c7a849f19ee9"
   }
  }
 },
 "nbformat": 4,
 "nbformat_minor": 2
}
